{
 "cells": [
  {
   "cell_type": "code",
   "execution_count": 1,
   "metadata": {},
   "outputs": [
    {
     "name": "stdout",
     "output_type": "stream",
     "text": [
      "{'dataroot': './', 'epoch': 0, 'n_epochs': 100, 'batch_size': 1, 'lr': 0.002, 'size': 640, 'input_nc': 3, 'output_nc': 3, 'num_workers': 4, 'device': 'cuda'}\n"
     ]
    }
   ],
   "source": [
    "import torchvision.transforms as transforms\n",
    "from torch.utils.data import DataLoader\n",
    "from torch.autograd import Variable\n",
    "from PIL import Image\n",
    "import torch\n",
    "\n",
    "from model import Generator\n",
    "from model import Discriminator\n",
    "\n",
    "from datasets import ImageDataSet\n",
    "\n",
    "import time\n",
    "\n",
    "from utils import weights_init\n",
    "import itertools\n",
    "\n",
    "import easydict\n",
    "\n",
    "opt = easydict.EasyDict({ \n",
    "    \"dataroot\": \"./\", \n",
    "    \"epoch\": 0, \n",
    "    \"n_epochs\": 100, \n",
    "    \"batch_size\": 1, \n",
    "    \"lr\": 0.002, \n",
    "    \"size\": 640,\n",
    "    \"input_nc\": 3,\n",
    "    \"output_nc\": 3,\n",
    "    \"num_workers\": 4\n",
    "})\n",
    "opt.device = 'cuda' if torch.cuda.is_available() else 'cpu'\n",
    "print(opt)"
   ]
  },
  {
   "cell_type": "code",
   "execution_count": 2,
   "metadata": {},
   "outputs": [
    {
     "name": "stdout",
     "output_type": "stream",
     "text": [
      "14\n",
      "14\n"
     ]
    }
   ],
   "source": [
    "transforms_ = [\n",
    "        transforms.ToTensor(),\n",
    "        transforms.Normalize((0.5,0.5,0.5),(0.5,0.5,0.5))\n",
    "    ]\n",
    "dataloader = DataLoader(\n",
    "        ImageDataSet('.', transforms_=transforms_),\n",
    "        batch_size=opt.batch_size, \n",
    "        num_workers=opt.num_workers\n",
    "        )\n"
   ]
  },
  {
   "cell_type": "code",
   "execution_count": null,
   "metadata": {},
   "outputs": [],
   "source": [
    "# import glob\n",
    "# import os\n",
    "# test = glob.glob(os.path.join('./', 'data/hz/') + '*.*')\n",
    "# print(len(test))\n",
    "# hzimg = sorted(glob.glob('C:/Users/hsoh0/Desktop/dehaze/data/hz/*.*'))\n",
    "# print(len(hzimg))\n",
    "# print(len(dataloader))\n",
    "Tensor = torch.cuda.FloatTensor if opt.device == 'cuda' else torch.FloatTensor    \n",
    "\n",
    "for i, batch in enumerate(dataloader):\n",
    "#     print(batch['gt'].shape)\n",
    "    gt = Variable(batch['gt'].type(Tensor))\n",
    "    hz = Variable(batch['hz'].type(Tensor))\n",
    "    print(gt.shape)\n",
    "    print(hz.shape)\n",
    "    "
   ]
  },
  {
   "cell_type": "code",
   "execution_count": null,
   "metadata": {},
   "outputs": [],
   "source": []
  }
 ],
 "metadata": {
  "kernelspec": {
   "display_name": "PyTorch",
   "language": "python",
   "name": "pytorch"
  },
  "language_info": {
   "codemirror_mode": {
    "name": "ipython",
    "version": 3
   },
   "file_extension": ".py",
   "mimetype": "text/x-python",
   "name": "python",
   "nbconvert_exporter": "python",
   "pygments_lexer": "ipython3",
   "version": "3.7.4"
  }
 },
 "nbformat": 4,
 "nbformat_minor": 2
}
